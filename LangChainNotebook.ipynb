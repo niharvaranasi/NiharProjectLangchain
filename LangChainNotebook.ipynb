{
  "nbformat": 4,
  "nbformat_minor": 0,
  "metadata": {
    "colab": {
      "provenance": []
    },
    "kernelspec": {
      "name": "python3",
      "display_name": "Python 3"
    },
    "language_info": {
      "name": "python"
    }
  },
  "cells": [
    {
      "cell_type": "markdown",
      "source": [
        "INITIALIZE PACKAGE INSTALL AND GOOGLE DRIVE CONNECTION"
      ],
      "metadata": {
        "id": "3b1CMm-kTxl4"
      }
    },
    {
      "cell_type": "code",
      "source": [
        "!pip install langchain\n",
        "!pip install openai openai==0.28.1\n",
        "!pip install chromadb\n",
        "\n",
        "!pip install pypdf\n",
        "!pip install tiktoken\n",
        "!pip install faiss-cpu"
      ],
      "metadata": {
        "id": "DS_anPuZKYay"
      },
      "execution_count": null,
      "outputs": []
    },
    {
      "cell_type": "code",
      "source": [
        "from google.colab import drive\n",
        "drive.mount('/content/drive')"
      ],
      "metadata": {
        "colab": {
          "base_uri": "https://localhost:8080/"
        },
        "id": "YDIj9bEE6dMV",
        "outputId": "ff6605f9-f92b-4a8e-832d-3616ce0b1b28"
      },
      "execution_count": null,
      "outputs": [
        {
          "output_type": "stream",
          "name": "stdout",
          "text": [
            "Mounted at /content/drive\n"
          ]
        }
      ]
    },
    {
      "cell_type": "markdown",
      "source": [
        "ADD OPENAI API KEY"
      ],
      "metadata": {
        "id": "eaxk4QP0UEHg"
      }
    },
    {
      "cell_type": "code",
      "source": [
        "import os\n",
        "import getpass\n",
        "\n",
        "os.environ['OPENAI_API_KEY'] = getpass.getpass('Paste API key:')"
      ],
      "metadata": {
        "colab": {
          "base_uri": "https://localhost:8080/"
        },
        "id": "MuzM919S6CbL",
        "outputId": "a6b83b10-f643-4c8e-d0cb-471d89f097e1"
      },
      "execution_count": null,
      "outputs": [
        {
          "name": "stdout",
          "output_type": "stream",
          "text": [
            "Paste API key:··········\n"
          ]
        }
      ]
    },
    {
      "cell_type": "markdown",
      "source": [
        "LOAD SINGLE DOC AND CREATE VECTOR STORE/EMBEDDINGS"
      ],
      "metadata": {
        "id": "TaaTcJkRTwVm"
      }
    },
    {
      "cell_type": "code",
      "source": [
        "# SINGLE DOC IMPLEMENTATION\n",
        "# document loader that splits on page\n",
        "from langchain.document_loaders import PyPDFLoader\n",
        "\n",
        "loader = PyPDFLoader(\"/content/drive/MyDrive/SamplePDF/SampleCATmanual.pdf\")\n",
        "pages = loader.load_and_split()"
      ],
      "metadata": {
        "id": "dE0THdkD7GRh"
      },
      "execution_count": null,
      "outputs": []
    },
    {
      "cell_type": "code",
      "source": [
        "# SINGLE DOC IMPLEMENTATION\n",
        "# demonstrating the similarity search and using mmr for retriever\n",
        "from langchain.vectorstores import FAISS\n",
        "from langchain.embeddings.openai import OpenAIEmbeddings\n",
        "\n",
        "\n",
        "faiss_index = FAISS.from_documents(pages, OpenAIEmbeddings())\n",
        "docs = faiss_index.similarity_search(\"Where can I find safety warnings for Material Handling Arm?\", k=3)\n",
        "for doc in docs:\n",
        "    print(str(doc.metadata[\"page\"]) + \":\", doc.page_content[:100])\n",
        "\n",
        "retriever = faiss_index.as_retriever(search_type='mmr', search_kwargs={'k': 6, 'lambda_mult': 0.25})\n"
      ],
      "metadata": {
        "id": "QMFbUCfH-PsD",
        "colab": {
          "base_uri": "https://localhost:8080/",
          "height": 331
        },
        "outputId": "2a6dec14-f23a-4a6e-f456-fbac8170f90c"
      },
      "execution_count": null,
      "outputs": [
        {
          "output_type": "stream",
          "name": "stdout",
          "text": [
            "91: 92 SEBU8407-06\n",
            "Operation Section\n",
            "Operation\n",
            "i01964204\n",
            "Material Handling Arm\n",
            "Operation\n",
            "SMCS Code: 6400\n",
            "17: 18 SEBU8407-06\n",
            "Safety Section\n",
            "Safety Messages\n",
            "Industrial Grapple Bucket (1)\n",
            "These warning messages a\n",
            "19: 20 SEBU8407-06\n",
            "Safety Section\n",
            "Safety Messages\n",
            "Angle Blade (5)\n",
            "These warning messages are located on \n"
          ]
        },
        {
          "output_type": "execute_result",
          "data": {
            "text/plain": [
              "'\\nQ1\\ndoc 1 --> 3\\ndoc 2 --> 5\\ndoc 4 --> 0\\ndoc 5\\n\\n10 chunks\\n\\ndoc 1 --> 10\\n\\nQ2\\ndoc1 --> 7\\ndoc2 --> 6\\n'"
            ],
            "application/vnd.google.colaboratory.intrinsic+json": {
              "type": "string"
            }
          },
          "metadata": {},
          "execution_count": 4
        }
      ]
    },
    {
      "cell_type": "markdown",
      "source": [
        "Create chatbot using SINGLE DOC WITHOUT CHAT MEMORY"
      ],
      "metadata": {
        "id": "eaR07SOTUPGE"
      }
    },
    {
      "cell_type": "code",
      "source": [
        "# SINGLE DOC IMPLEMENTATION W/O CHAT MEM\n",
        "# chain type 'RetrievalQA' useful for single query questioning\n",
        "from langchain.chat_models import ChatOpenAI\n",
        "llm = ChatOpenAI(temperature = 0.7, model = 'gpt-3.5-turbo-16k')\n",
        "\n",
        "from langchain.chains import RetrievalQA\n",
        "\n",
        "qa_stuff = RetrievalQA.from_chain_type(\n",
        "    llm=llm,\n",
        "    chain_type=\"stuff\",\n",
        "    retriever=retriever,\n",
        "    verbose=True,\n",
        ")"
      ],
      "metadata": {
        "id": "fbfzwU12SbAh"
      },
      "execution_count": null,
      "outputs": []
    },
    {
      "cell_type": "code",
      "source": [
        "# SINGLE DOC IMPLEMENTATION\n",
        "# tester query\n",
        "query =  \"How can I attach a load related to Material Handling Arm?\"\n",
        "\n",
        "response = qa_stuff.run(query)\n",
        "print(response)"
      ],
      "metadata": {
        "colab": {
          "base_uri": "https://localhost:8080/"
        },
        "id": "LVWLDkPuNioc",
        "outputId": "b9438118-e19a-4cda-eea6-68ba22554b9f"
      },
      "execution_count": null,
      "outputs": [
        {
          "output_type": "stream",
          "name": "stdout",
          "text": [
            "\n",
            "\n",
            "\u001b[1m> Entering new RetrievalQA chain...\u001b[0m\n",
            "\n",
            "\u001b[1m> Finished chain.\u001b[0m\n",
            "To attach a load to the Material Handling Arm, follow these steps:\n",
            "\n",
            "1. Verify that the load does not exceed the weight limit. Refer to the Operation and Maintenance Manual, \"Material Handling Arm Rated Load\" for the rated load capacities.\n",
            "\n",
            "2. Keep all personnel out of the work area at all times, except when you are attaching or removing a load.\n",
            "\n",
            "3. Enter the machine and start the engine.\n",
            "\n",
            "4. Disengage the parking brake.\n",
            "\n",
            "5. Keep the loader arms in the fully lowered position. Slowly position the material handling arm until either lifting point 1 or lifting point 2 is directly above the load.\n",
            "\n",
            "6. Tilt the material handling arm forward until the hook is slightly higher than the load to minimize swinging.\n",
            "\n",
            "7. Stop the engine.\n",
            "\n",
            "8. Wait as a second person securely attaches the load to the hook, ensuring that the hook clasp is locked in place.\n",
            "\n",
            "9. Ensure that all personnel have left the work area.\n",
            "\n",
            "10. Start the engine again.\n",
            "\n",
            "11. Disengage the parking brake.\n",
            "\n",
            "12. Slowly tilt back the material handling arm until it is fully tilted back.\n",
            "\n",
            "13. Stop the engine.\n",
            "\n",
            "Please note that it is important to inspect the material handling arm and attachments for wear and damage before attaching a load. Also, make sure to use only the specified Caterpillar hook and shackle for attaching the load.\n"
          ]
        }
      ]
    },
    {
      "cell_type": "markdown",
      "source": [
        "Create chatbot using SINGLE DOC WITH CHAT MEMORY"
      ],
      "metadata": {
        "id": "bHICxlbzUerb"
      }
    },
    {
      "cell_type": "code",
      "source": [
        "# SINGLE DOC IMPLEMENTATION W/ CHAT MEM\n",
        "# chain type 'ConversationalRetrievalChain' useful for multiple query questioning\n",
        "from langchain.memory import ConversationBufferMemory\n",
        "from langchain.chains import ConversationalRetrievalChain\n",
        "memory = ConversationBufferMemory(memory_key=\"chat_history\", return_messages=True)\n",
        "\n",
        "qa = ConversationalRetrievalChain.from_llm(\n",
        "    llm=llm,\n",
        "    retriever=retriever,\n",
        "    memory=memory\n",
        ")"
      ],
      "metadata": {
        "id": "Urfhmi24bQA9"
      },
      "execution_count": null,
      "outputs": []
    },
    {
      "cell_type": "code",
      "source": [
        "# SINGLE DOC QUERY W/ CHAT MEM\n",
        "query = \"What is the SMCS code for the Material Handling Arm?\"\n",
        "result = qa({\"question\": query})\n",
        "print(result['answer'])"
      ],
      "metadata": {
        "colab": {
          "base_uri": "https://localhost:8080/"
        },
        "id": "0B080EtJbZ3z",
        "outputId": "55e382a1-ab6a-4425-b75c-2431ed66d1e2"
      },
      "execution_count": null,
      "outputs": [
        {
          "output_type": "stream",
          "name": "stdout",
          "text": [
            "The SMCS code for the Material Handling Arm is 6400; 6700; 7000.\n"
          ]
        }
      ]
    },
    {
      "cell_type": "code",
      "source": [
        "# SINGLE DOC QUERY W/ CHAT MEM CONT.\n",
        "query = \"How can I attach it?\"\n",
        "result = qa({\"question\": query})\n",
        "print(result['answer'])"
      ],
      "metadata": {
        "colab": {
          "base_uri": "https://localhost:8080/"
        },
        "id": "Rvl-qUt4bySd",
        "outputId": "4ed2d092-505d-4bc0-fc73-af52c073842a"
      },
      "execution_count": null,
      "outputs": [
        {
          "output_type": "stream",
          "name": "stdout",
          "text": [
            "To attach the Material Handling Arm, follow these steps:\n",
            "\n",
            "1. Verify that the load does not exceed the weight limit. Refer to the Operation and Maintenance Manual for the rated load capacities.\n",
            "\n",
            "2. Keep all personnel out of the work area, except when attaching or removing the load.\n",
            "\n",
            "3. Enter the machine and start the engine.\n",
            "\n",
            "4. Disengage the parking brake.\n",
            "\n",
            "5. Keep the loader arms in the fully lowered position. Slowly position the material handling arm until either lifting point 1 or lifting point 2 is directly above the load.\n",
            "\n",
            "6. Tilt the material handling arm forward until the hook is slightly higher than the load to minimize swinging.\n",
            "\n",
            "7. Stop the engine.\n",
            "\n",
            "8. Wait for a second person to securely attach the load to the hook, ensuring that the hook clasp is in the locked position.\n",
            "\n",
            "9. Ensure that all personnel have left the work area.\n",
            "\n",
            "10. Start the engine and disengage the parking brake.\n",
            "\n",
            "11. Slowly tilt back the material handling arm until it is fully tilted back.\n",
            "\n",
            "12. Stop the engine.\n",
            "\n",
            "Note: It is important to use the appropriate lifting point based on the size and weight of the load. Use only the specified Caterpillar hook and shackle to attach the load. Do not allow anyone near the suspended load unless the position lock pin is installed.\n"
          ]
        }
      ]
    },
    {
      "cell_type": "code",
      "source": [
        "# SINGLE DOC QUERY W/ CHAT MEM CONT.\n",
        "query = \"Will I need two people for attachment?\"\n",
        "result = qa({\"question\": query})\n",
        "print(result['answer'])"
      ],
      "metadata": {
        "colab": {
          "base_uri": "https://localhost:8080/"
        },
        "id": "TFZVDx9ac2V_",
        "outputId": "b302c74b-c7f4-428e-aca5-f6c5e7cf28e9"
      },
      "execution_count": null,
      "outputs": [
        {
          "output_type": "stream",
          "name": "stdout",
          "text": [
            "Yes, according to the information provided, it is recommended to have two people to attach the load to the Material Handling Arm. This is mentioned in the context under the \"Two Person Operation\" section of the Operation section.\n"
          ]
        }
      ]
    },
    {
      "cell_type": "markdown",
      "source": [
        "LOAD MULTI DOC AND CREATE VECTOR STORE/EMBEDDINGS\n"
      ],
      "metadata": {
        "id": "wuCIFSLmU2A6"
      }
    },
    {
      "cell_type": "code",
      "source": [
        "# MULTI DOC IMPLEMENTATION\n",
        "# testing for loading multiple documents and creating a vector store\n",
        "# not applicable to current data, but helps define where chunks are being pulled from\n",
        "all_documents = []\n",
        "\n",
        "loaders = [\"/content/drive/MyDrive/SamplePDF/SampleCATmanual.pdf\", \"/content/drive/MyDrive/SamplePDF/SampleCATRP3600.pdf\"]\n",
        "\n",
        "for l in loaders:\n",
        "\n",
        "    loader = PyPDFLoader(l)\n",
        "    pages = loader.load_and_split()\n",
        "    all_documents.extend(pages)\n",
        "\n",
        "embeddings = OpenAIEmbeddings()\n",
        "vectorstore = FAISS.from_documents(all_documents, embeddings)"
      ],
      "metadata": {
        "id": "IcKWkOAhN70q"
      },
      "execution_count": null,
      "outputs": []
    },
    {
      "cell_type": "code",
      "source": [
        "# MULTI DOC IMPLEMENTATION\n",
        "# adding multiple documents to the similarity search and showing what chunks get pulled\n",
        "from langchain.vectorstores import FAISS\n",
        "from langchain.embeddings.openai import OpenAIEmbeddings\n",
        "\n",
        "faiss_index = FAISS.from_documents(all_documents, OpenAIEmbeddings())\n",
        "docs = faiss_index.similarity_search(\"Where can I find the instructions for Engine Valve inspection and replacement?\", k=3)\n",
        "for doc in docs:\n",
        "    print(str(doc.metadata[\"page\"]) + \":\", doc.page_content[:100])\n",
        "\n",
        "retriever = faiss_index.as_retriever(search_type='mmr', search_kwargs={'k': 6, 'lambda_mult': 0.25})"
      ],
      "metadata": {
        "colab": {
          "base_uri": "https://localhost:8080/"
        },
        "id": "kSxg-qoeO9oO",
        "outputId": "9ab00467-f8e2-4cca-ced1-c3327206444e"
      },
      "execution_count": null,
      "outputs": [
        {
          "output_type": "stream",
          "name": "stdout",
          "text": [
            "12: 13 \n",
            " \n",
            "Engine Valve – Inspect/Replace  \n",
            " \n",
            "Remove the muffler, air filter assembly, recoil \n",
            "starter, s\n",
            "13: 14 \n",
            " Make sure that the reamer is centered over the \n",
            "valve guide. Coat the reamer and valve guide \n",
            "w\n",
            "2: 3 \n",
            " Table of Contents \n",
            "California Proposition 65 Warning ................... .......................\n"
          ]
        }
      ]
    },
    {
      "cell_type": "markdown",
      "source": [
        "IMPLEMENT MULTI RETRIEVER TEST:\n",
        "1. https://python.langchain.com/docs/use_cases/question_answering/multi_retrieval_qa_router\n",
        "  - dynamically choose a retriever"
      ],
      "metadata": {
        "id": "zUNy6IhmPye_"
      }
    },
    {
      "cell_type": "code",
      "source": [
        "from langchain.chains.router import MultiRetrievalQAChain\n",
        "from langchain.llms import OpenAI\n",
        "\n",
        "from langchain.embeddings import OpenAIEmbeddings\n",
        "from langchain.document_loaders import TextLoader\n",
        "from langchain.vectorstores import FAISS\n",
        "\n",
        "from langchain.document_loaders import PyPDFLoader\n",
        "from langchain.vectorstores import FAISS\n",
        "from langchain.embeddings.openai import OpenAIEmbeddings"
      ],
      "metadata": {
        "id": "fT2lBdIHv054"
      },
      "execution_count": null,
      "outputs": []
    },
    {
      "cell_type": "code",
      "source": [
        "# CREATE MULTIPLE RETRIEVERS\n",
        "# including both single and multi doc retrievers to demonstrate applicabilty for both cases\n",
        "# search_type should remain consistent, search_kwargs are adaptiable to data within retriever\n",
        "\n",
        "# Single doc1\n",
        "loader1 = PyPDFLoader(\"/content/drive/MyDrive/SamplePDF/SampleCATmanual.pdf\")\n",
        "pages1 = loader1.load_and_split()\n",
        "\n",
        "faiss_index1 = FAISS.from_documents(pages1, OpenAIEmbeddings())\n",
        "retriever1 = faiss_index1.as_retriever(search_type='mmr', search_kwargs={'k': 6, 'lambda_mult': 0.25})\n",
        "\n",
        "\n",
        "# Single doc2\n",
        "loader2 = PyPDFLoader(\"/content/drive/MyDrive/SamplePDF/SampleCATRP3600.pdf\")\n",
        "pages2 = loader2.load_and_split()\n",
        "\n",
        "faiss_index2 = FAISS.from_documents(pages2, OpenAIEmbeddings())\n",
        "retriever2 = faiss_index2.as_retriever(search_type='mmr', search_kwargs={'k': 6, 'lambda_mult': 0.25})\n",
        "\n",
        "\n",
        "# Multi docs1\n",
        "all_documents1 = []\n",
        "\n",
        "loaders1 = [\"/content/drive/MyDrive/SamplePDF/Excavator_Manuals/Engine_Manuals/CAT_C15_Engine_Manual.pdf\",\n",
        "           \"/content/drive/MyDrive/SamplePDF/Excavator_Manuals/Engine_Manuals/CAT_C18_Engine_Manual.pdf\"]\n",
        "\n",
        "for l in loaders1:\n",
        "\n",
        "    loader = PyPDFLoader(l)\n",
        "    pages = loader.load_and_split()\n",
        "    all_documents1.extend(pages)\n",
        "\n",
        "\n",
        "multi_faiss_index1 = FAISS.from_documents(all_documents1, OpenAIEmbeddings())\n",
        "multi_retriever1 = multi_faiss_index1.as_retriever(search_type='mmr', search_kwargs={'k': 6, 'lambda_mult': 0.25})\n",
        "\n",
        "\n",
        "# Multi docs2\n",
        "all_documents2 = []\n",
        "\n",
        "loaders2 = [\"/content/drive/MyDrive/SamplePDF/Excavator_Manuals/Excavator_Manuals/CAT_Excavator_Model_304.pdf\",\n",
        "           \"/content/drive/MyDrive/SamplePDF/Excavator_Manuals/Excavator_Manuals/CAT_Excavator_Model_3015.pdf\"]\n",
        "\n",
        "for l in loaders2:\n",
        "\n",
        "    loader = PyPDFLoader(l)\n",
        "    pages = loader.load_and_split()\n",
        "    all_documents2.extend(pages)\n",
        "\n",
        "\n",
        "multi_faiss_index2 = FAISS.from_documents(all_documents2, OpenAIEmbeddings())\n",
        "multi_retriever2 = multi_faiss_index2.as_retriever(search_type='mmr', search_kwargs={'k': 6, 'lambda_mult': 0.25})"
      ],
      "metadata": {
        "id": "EbDe2yVxv_5I"
      },
      "execution_count": null,
      "outputs": []
    },
    {
      "cell_type": "code",
      "source": [
        "# PROVIDE INFO REGARDING EACH RETRIEVER\n",
        "# used when deciding which retriever will pull data from based on cosine similarity (compares to description)\n",
        "# can set default chain to include all data\n",
        "\n",
        "retriever_infos = [\n",
        "    {\n",
        "        \"name\": \"Compact Track Loaders\",\n",
        "        \"description\": \"Good for answering questions about the Operation and Maintenance for Compact Track Loaders\",\n",
        "        \"retriever\": retriever1\n",
        "    },\n",
        "    {\n",
        "        \"name\": \"RP3600 Portable Generator\",\n",
        "        \"description\": \"Good for answering questions about the Service for RP3600 Portable Generators\",\n",
        "        \"retriever\": retriever2\n",
        "    },\n",
        "    {\n",
        "        \"name\": \"CAT Engine Manuals\",\n",
        "        \"description\": \"Good for answering questions about CAT Engines C15 and C18\",\n",
        "        \"retriever\": multi_retriever1\n",
        "    },\n",
        "    {\n",
        "        \"name\": \"CAT Excavator Model Manuals\",\n",
        "        \"description\": \"Good for answering questions about CAT Excavators 304 and 3015\",\n",
        "        \"retriever\": multi_retriever2\n",
        "    }\n",
        "]"
      ],
      "metadata": {
        "id": "KXAiRpmZxYd6"
      },
      "execution_count": null,
      "outputs": []
    },
    {
      "cell_type": "code",
      "source": [
        "# CREATE MULTI-RETRIEVAL CHAIN\n",
        "chain = MultiRetrievalQAChain.from_retrievers(OpenAI(), retriever_infos, verbose=True)"
      ],
      "metadata": {
        "id": "qzhFPc4wyPA8"
      },
      "execution_count": null,
      "outputs": []
    },
    {
      "cell_type": "code",
      "source": [
        "print(chain.run(\"Can you give me the details for the C18 Engine Configuration?\"))"
      ],
      "metadata": {
        "colab": {
          "base_uri": "https://localhost:8080/"
        },
        "id": "_QwG94bnAwxo",
        "outputId": "94e0b23a-d8df-4df4-d4a3-afeaff232a03"
      },
      "execution_count": null,
      "outputs": [
        {
          "output_type": "stream",
          "name": "stdout",
          "text": [
            "\n",
            "\n",
            "\u001b[1m> Entering new MultiRetrievalQAChain chain...\u001b[0m\n"
          ]
        },
        {
          "output_type": "stream",
          "name": "stderr",
          "text": [
            "/usr/local/lib/python3.10/dist-packages/langchain/chains/llm.py:321: UserWarning: The predict_and_parse method is deprecated, instead pass an output parser directly to LLMChain.\n",
            "  warnings.warn(\n"
          ]
        },
        {
          "output_type": "stream",
          "name": "stdout",
          "text": [
            "CAT Engine Manuals: {'query': 'Can you give me the details for the C18 Engine Configuration?'}\n",
            "\u001b[1m> Finished chain.\u001b[0m\n",
            " The C18 Engine Configuration is an in-line 6, 4-stroke-cycle diesel with a bore of 145 mm (5.7 in), a stroke of 183 mm (7.2 in), and a displacement of 18.1 L (1104.5 in³). It has a 16.0:1 compression ratio, and is series twin turbocharged-aftercooled (TTA, >560 kW).\n"
          ]
        }
      ]
    },
    {
      "cell_type": "code",
      "source": [
        "print(chain.run(\"What is the SMCS code for the Material Handling Arm in compact track loaders?\"))"
      ],
      "metadata": {
        "colab": {
          "base_uri": "https://localhost:8080/"
        },
        "id": "SyM0XMSoOAOz",
        "outputId": "96ae1913-b54b-483e-84d8-156e3c2aab70"
      },
      "execution_count": null,
      "outputs": [
        {
          "output_type": "stream",
          "name": "stdout",
          "text": [
            "\n",
            "\n",
            "\u001b[1m> Entering new MultiRetrievalQAChain chain...\u001b[0m\n"
          ]
        },
        {
          "output_type": "stream",
          "name": "stderr",
          "text": [
            "/usr/local/lib/python3.10/dist-packages/langchain/chains/llm.py:321: UserWarning: The predict_and_parse method is deprecated, instead pass an output parser directly to LLMChain.\n",
            "  warnings.warn(\n"
          ]
        },
        {
          "output_type": "stream",
          "name": "stdout",
          "text": [
            "Compact Track Loaders: {'query': 'What is the SMCS code for the Material Handling Arm in compact track loaders?'}\n",
            "\u001b[1m> Finished chain.\u001b[0m\n",
            " 6400; 6700; 7000\n"
          ]
        }
      ]
    },
    {
      "cell_type": "code",
      "source": [
        "print(chain.run(\"What are the engine specifications of the C15 engine?\"))"
      ],
      "metadata": {
        "colab": {
          "base_uri": "https://localhost:8080/"
        },
        "id": "FtCP_LKPObxI",
        "outputId": "47d187c1-23e2-45d2-b9b0-eb2911b47edb"
      },
      "execution_count": null,
      "outputs": [
        {
          "output_type": "stream",
          "name": "stdout",
          "text": [
            "\n",
            "\n",
            "\u001b[1m> Entering new MultiRetrievalQAChain chain...\u001b[0m\n"
          ]
        },
        {
          "output_type": "stream",
          "name": "stderr",
          "text": [
            "/usr/local/lib/python3.10/dist-packages/langchain/chains/llm.py:321: UserWarning: The predict_and_parse method is deprecated, instead pass an output parser directly to LLMChain.\n",
            "  warnings.warn(\n"
          ]
        },
        {
          "output_type": "stream",
          "name": "stdout",
          "text": [
            "CAT Engine Manuals: {'query': 'What are the engine specifications of the C15 engine?'}\n",
            "\u001b[1m> Finished chain.\u001b[0m\n",
            " The C15 engine has 6 cylinders with a bore of 145 mm (5.7 in) and a stroke of 183 mm (7.2 in). The displacement is 18.1 L (1104.5 in3) and the compression ratio is 16.0:1. It is a turbocharged direct injection 4-stroke-cycle diesel engine with a counterclockwise rotation from the flywheel end. The cooling system capacity is 27 L (28 qts) and the lube system refill is 40-74 L (10.5-19.5 gal).\n"
          ]
        }
      ]
    }
  ]
}